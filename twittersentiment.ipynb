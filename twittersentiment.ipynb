{
 "cells": [
  {
   "cell_type": "code",
   "execution_count": 1,
   "id": "463b2fab",
   "metadata": {},
   "outputs": [
    {
     "name": "stderr",
     "output_type": "stream",
     "text": [
      "[nltk_data] Downloading package punkt to\n",
      "[nltk_data]     /Users/kailashbalachandiran/nltk_data...\n",
      "[nltk_data]   Package punkt is already up-to-date!\n",
      "[nltk_data] Downloading package wordnet to\n",
      "[nltk_data]     /Users/kailashbalachandiran/nltk_data...\n",
      "[nltk_data]   Package wordnet is already up-to-date!\n",
      "[nltk_data] Downloading package omw-1.4 to\n",
      "[nltk_data]     /Users/kailashbalachandiran/nltk_data...\n",
      "[nltk_data]   Package omw-1.4 is already up-to-date!\n"
     ]
    }
   ],
   "source": [
    "from sklearn.feature_extraction.text import TfidfVectorizer\n",
    "from nltk.corpus import stopwords\n",
    "import re\n",
    "import nltk\n",
    "nltk.download(\"punkt\")\n",
    "nltk.download('wordnet')\n",
    "nltk.download('omw-1.4')\n",
    "from nltk.stem import WordNetLemmatizer\n",
    "from nltk.tokenize import word_tokenize\n",
    "from nltk.stem import SnowballStemmer\n",
    "from sklearn.svm import LinearSVC\n",
    "from nltk.stem import wordnet\n",
    "from sklearn.model_selection import train_test_split\n",
    "from sklearn.metrics import confusion_matrix, classification_report\n",
    "from sklearn.metrics import accuracy_score\n",
    "import matplotlib.pyplot as plt"
   ]
  },
  {
   "cell_type": "code",
   "execution_count": 2,
   "id": "f1612af0",
   "metadata": {},
   "outputs": [],
   "source": [
    "# Importing libraries and functions\n",
    "import pandas as pd\n",
    "import numpy as np\n",
    "import re\n",
    "import nltk\n",
    "from nltk.corpus import stopwords\n",
    "from numpy import array\n",
    "#from wordcloud import WordCloud\n",
    "import matplotlib.pyplot as plt\n",
    "# nltk\n",
    "from sklearn.feature_extraction.text import TfidfVectorizer\n",
    "from scipy import stats"
   ]
  },
  {
   "cell_type": "code",
   "execution_count": 3,
   "id": "134f30e6",
   "metadata": {},
   "outputs": [],
   "source": [
    "df_train = pd.read_csv(\"Tweets_train (2).csv\")\n",
    "df_test = pd.read_csv(\"Tweets_test (1) (1).csv\", encoding=\"latin-1\")\n",
    "df_dev = pd.read_csv(\"Tweets_dev (1).csv\")"
   ]
  },
  {
   "cell_type": "code",
   "execution_count": 4,
   "id": "ba18662c",
   "metadata": {},
   "outputs": [
    {
     "data": {
      "text/plain": [
       "0        569179849518161920\n",
       "1        569835751275433984\n",
       "2        568588936852799488\n",
       "3        569525116725567491\n",
       "4        568807823187976193\n",
       "                ...        \n",
       "11853    570123872168574976\n",
       "11854    570063683256242177\n",
       "11855    568032524749942784\n",
       "11856    569705813142409217\n",
       "11857    569976114124349440\n",
       "Name: tweet_id, Length: 11858, dtype: int64"
      ]
     },
     "execution_count": 4,
     "metadata": {},
     "output_type": "execute_result"
    }
   ],
   "source": [
    "df_train.pop(\"tweet_id\")"
   ]
  },
  {
   "cell_type": "code",
   "execution_count": 5,
   "id": "43c2f382",
   "metadata": {},
   "outputs": [
    {
     "name": "stdout",
     "output_type": "stream",
     "text": [
      "<class 'pandas.core.frame.DataFrame'>\n",
      "RangeIndex: 11858 entries, 0 to 11857\n",
      "Data columns (total 2 columns):\n",
      " #   Column             Non-Null Count  Dtype \n",
      "---  ------             --------------  ----- \n",
      " 0   text               11858 non-null  object\n",
      " 1   airline_sentiment  11858 non-null  object\n",
      "dtypes: object(2)\n",
      "memory usage: 185.4+ KB\n"
     ]
    }
   ],
   "source": [
    "df_train.info()"
   ]
  },
  {
   "cell_type": "code",
   "execution_count": 6,
   "id": "0e402a4d",
   "metadata": {},
   "outputs": [
    {
     "data": {
      "text/plain": [
       "(11858, 2)"
      ]
     },
     "execution_count": 6,
     "metadata": {},
     "output_type": "execute_result"
    }
   ],
   "source": [
    "df_train.shape"
   ]
  },
  {
   "cell_type": "code",
   "execution_count": 7,
   "id": "9aeaab69",
   "metadata": {},
   "outputs": [
    {
     "name": "stdout",
     "output_type": "stream",
     "text": [
      "text                 0.0\n",
      "airline_sentiment    0.0\n",
      "dtype: float64\n"
     ]
    }
   ],
   "source": [
    "percent_missing = round(df_train.isnull().sum()/len(df_train)*100,2)\n",
    "print(percent_missing)"
   ]
  },
  {
   "cell_type": "code",
   "execution_count": 8,
   "id": "5cfc35b9",
   "metadata": {},
   "outputs": [],
   "source": [
    "#!pip install tensorflow\n",
    "import tensorflow.keras\n",
    "from tensorflow import keras\n",
    "from keras.preprocessing.text import one_hot,Tokenizer\n",
    "from keras_preprocessing.text import Tokenizer\n",
    "from keras_preprocessing.sequence import pad_sequences\n",
    "from keras.models import Sequential\n",
    "from keras.layers.core import Activation, Dropout, Dense\n",
    "from keras.layers import Flatten, GlobalMaxPooling1D, Embedding, Conv1D, LSTM\n",
    "from sklearn.model_selection import train_test_split"
   ]
  },
  {
   "cell_type": "code",
   "execution_count": 9,
   "id": "957c9392",
   "metadata": {},
   "outputs": [
    {
     "name": "stdout",
     "output_type": "stream",
     "text": [
      "                   text\n",
      "airline_sentiment      \n",
      "negative           7434\n",
      "neutral            2510\n",
      "positive           1914\n"
     ]
    },
    {
     "data": {
      "text/plain": [
       "[Text(0, 0, 'Negative'), Text(1, 0, 'Positive'), Text(2, 0, 'Neutral')]"
      ]
     },
     "execution_count": 9,
     "metadata": {},
     "output_type": "execute_result"
    },
    {
     "data": {
      "image/png": "[encoded data removed]",
      "text/plain": [
       "<Figure size 640x480 with 1 Axes>"
      ]
     },
     "metadata": {},
     "output_type": "display_data"
    }
   ],
   "source": [
    "print(df_train.groupby('airline_sentiment').count())\n",
    "plot_target = df_train.groupby('airline_sentiment').count().plot(kind='bar', title='Distribution of data',legend=False)\n",
    "plot_target.set_xticklabels(['Negative','Positive','Neutral'], rotation=0)"
   ]
  },
  {
   "cell_type": "code",
   "execution_count": 10,
   "id": "f712a167",
   "metadata": {},
   "outputs": [],
   "source": [
    "text, sentiment = list(df_train['text']), list(df_train['airline_sentiment'])\n",
    "#NLP - Stopword removal\n",
    "test_text, test_sentiment = list(df_test['text']),list(df_test['airline_sentiment'])\n",
    "dev_text, dev_sentiment = list(df_dev['text']),list(df_dev['airline_sentiment'])"
   ]
  },
  {
   "cell_type": "code",
   "execution_count": 11,
   "id": "f7306e1e",
   "metadata": {},
   "outputs": [
    {
     "name": "stdout",
     "output_type": "stream",
     "text": [
      "<class 'list'>\n",
      "data in y is: [1 2 1 ... 2 2 2]\n",
      "0       southwestair great job celebrating mardigras  ...\n",
      "1       southwestair thanks taking notch leinenkugels ...\n",
      "2                 usairways hold hour completely unaccept\n",
      "3                              united thank offer sorted \n",
      "4       jetblue wondering its possible colleague earli...\n",
      "                              ...                        \n",
      "1313    americanair sorry disappointed outoftouchwithr...\n",
      "1314    americanair stuck plane dallas thats supposed ...\n",
      "1315    united lost wallet flight  yesterday houston b...\n",
      "1316    usairways travelling pwm atl sunday flight got...\n",
      "1317                                  southwestair thank \n",
      "Name: protext, Length: 1318, dtype: object\n"
     ]
    }
   ],
   "source": [
    "snowball = SnowballStemmer(language='english')\n",
    "word_lemma = WordNetLemmatizer()\n",
    "from sklearn.feature_extraction.text import ENGLISH_STOP_WORDS\n",
    "nlp = [] \n",
    "pun=[]  \n",
    "url=[]\n",
    "lem =[]\n",
    "#stop_words = [word for word in text.split() if word.lower() not in ENGLISH_STOP_WORDS]\n",
    "def NLP(text):\n",
    "  \n",
    "  for sent in text:\n",
    "    redef1 = \"\"\n",
    "    #print(sent)\n",
    "    wordlist = sent.split()\n",
    "    for word in wordlist:\n",
    "      if (word.lower() not in ENGLISH_STOP_WORDS):\n",
    "        if redef1==\"\":\n",
    "          redef1=word\n",
    "        else:  \n",
    "          redef1 = redef1 + \" \" + word\n",
    "\n",
    "        #print(redef1)\n",
    "        \"\"\"print(\"length of old data:\", len(text))\n",
    "        print(\"length of new data:\", len(redef1))\"\"\"\n",
    "    \n",
    "    nlp.append(redef1)\n",
    "# Removing Punctuation  \n",
    "def PUNC(nlp):\n",
    "  for rem in nlp:\n",
    "    redef2=\" \"\n",
    "    clean2 = re.sub(\"[^A-Za-z ]\", \"\" , rem)\n",
    "    pun.append(clean2)\n",
    "\n",
    "def URL(pun):\n",
    "  for content in pun:\n",
    "    clean3 = re.sub('http\\S+', '', content) #replaces string which does not contains any white space characters and starts with http\n",
    "    url.append(clean3)\n",
    "\n",
    "#Tokenisation Lemma Stem\n",
    "def Gram(url):\n",
    "  for sentence in url: #token\n",
    "    #tokens = word_tokenize(sentence)\n",
    "    onesent = \" \"\n",
    "    #for eachword in sentence:\n",
    "    stemmed = snowball.stem(sentence.lower())\n",
    "    lemmatized = word_lemma.lemmatize(stemmed)\n",
    "    #  onesent = onesent + \" \" + lemmatized\n",
    "    lem.append(lemmatized)\n",
    "\n",
    "    \n",
    "\n",
    "print(type(text))\n",
    "NLP(text)\n",
    "PUNC(nlp)\n",
    "nlp.clear()\n",
    "URL(pun)\n",
    "pun.clear()\n",
    "Gram(url)\n",
    "url.clear()\n",
    "#model_Data = df_train[['text','airline_sentiment']]\n",
    "#print(\"ype is\",type(lem))\n",
    "#print(lem)\n",
    "df_train['protext']=lem\n",
    "#dataset = [['protext'],data['airline_sentiment']]\n",
    "\n",
    "# TRAIN DATA\n",
    "x_train = df_train.protext\n",
    "y = df_train.airline_sentiment\n",
    "y_train = np.array(list(map(lambda x: 1 if x==\"positive\" else (2 if x=='negative' else 0),y)))\n",
    "print(\"data in y is:\",y_train)\n",
    "\n",
    "lem.clear()\n",
    "#print(type(test_text))\n",
    "NLP(test_text)\n",
    "PUNC(nlp)\n",
    "nlp.clear()\n",
    "URL(pun)\n",
    "pun.clear()\n",
    "Gram(url)\n",
    "url.clear()\n",
    "df_test['protext']=lem\n",
    "#TEST DATA\n",
    "x_test = df_test.protext\n",
    "#print(test_data)\n",
    "test_target = df_test.airline_sentiment\n",
    "y_test = np.array(list(map(lambda x: 1 if x==\"positive\" else (2 if x=='negative' else 0),test_target)))\n",
    "lem.clear()\n",
    "\n",
    "NLP(dev_text)\n",
    "PUNC(nlp)\n",
    "nlp.clear()\n",
    "URL(pun)\n",
    "pun.clear()\n",
    "Gram(url)\n",
    "url.clear()\n",
    "df_dev['protext']=lem\n",
    "lem.clear()\n",
    "\n",
    "x_dev = df_dev.protext\n",
    "y_dev = df_dev.airline_sentiment\n",
    "\n",
    "print(x_dev)"
   ]
  },
  {
   "cell_type": "code",
   "execution_count": 12,
   "id": "419a09ff",
   "metadata": {},
   "outputs": [
    {
     "data": {
      "text/plain": [
       "12409"
      ]
     },
     "execution_count": 12,
     "metadata": {},
     "output_type": "execute_result"
    }
   ],
   "source": [
    "\n",
    "\n",
    "word_tokenizer = Tokenizer()\n",
    "word_tokenizer.fit_on_texts(x_train)\n",
    "\n",
    "X_train = word_tokenizer.texts_to_sequences(x_train)\n",
    "X_test = word_tokenizer.texts_to_sequences(x_test)\n",
    "\n",
    "\n",
    "vocab_length = len(word_tokenizer.word_index) + 1\n",
    "vocab_length"
   ]
  },
  {
   "cell_type": "code",
   "execution_count": 13,
   "id": "ddd6ea53",
   "metadata": {},
   "outputs": [],
   "source": [
    "from keras_preprocessing.sequence import pad_sequences\n",
    "maxlen = 100\n",
    "#print(\"before \",x_train)\n",
    "X_train = pad_sequences(X_train, padding='post', maxlen=maxlen)\n",
    "X_test = pad_sequences(X_test, padding='post', maxlen=maxlen)\n",
    "#print(\"after\", x_train)"
   ]
  },
  {
   "cell_type": "code",
   "execution_count": 14,
   "id": "170040cb",
   "metadata": {},
   "outputs": [],
   "source": [
    "from numpy import asarray\n",
    "from numpy import zeros\n",
    "\n",
    "embeddings_dictionary = dict()\n",
    "\n",
    "glove_file = open('glove.6B.100d.txt', encoding=\"utf8\")\n",
    "\n",
    "for line in glove_file:\n",
    "    records = line.split()\n",
    "    word = records[0]\n",
    "    vector_dimensions = asarray(records[1:], dtype='float32')\n",
    "    embeddings_dictionary [word] = vector_dimensions\n",
    "glove_file.close()"
   ]
  },
  {
   "cell_type": "code",
   "execution_count": 15,
   "id": "d80e9e50",
   "metadata": {},
   "outputs": [
    {
     "name": "stdout",
     "output_type": "stream",
     "text": [
      "            0         1        2        3        4         5         6    \n",
      "0      0.00000  0.000000  0.00000  0.00000  0.00000  0.000000  0.000000  \\\n",
      "1      0.21733  0.561160  0.63062 -0.14130  0.61665 -0.414800 -0.024356   \n",
      "2      0.12190 -0.656460  0.50855  0.14803 -0.45745  0.118270  0.460180   \n",
      "3      0.17280  0.247460  0.22115  0.57265  0.13870 -0.025549  0.521060   \n",
      "4      0.00000  0.000000  0.00000  0.00000  0.00000  0.000000  0.000000   \n",
      "...        ...       ...      ...      ...      ...       ...       ...   \n",
      "12404  0.00000  0.000000  0.00000  0.00000  0.00000  0.000000  0.000000   \n",
      "12405 -0.43078 -0.081624  0.41119 -0.34523 -0.31086  1.001000 -0.054702   \n",
      "12406 -0.30734  0.296040  0.52309 -0.87012 -0.36028  0.442840 -0.839620   \n",
      "12407  0.00000  0.000000  0.00000  0.00000  0.00000  0.000000  0.000000   \n",
      "12408 -0.13591 -0.449560  0.77170  0.37433  0.20394  0.358470 -0.384660   \n",
      "\n",
      "             7         8        9   ...        90       91        92   \n",
      "0      0.000000  0.000000  0.00000  ...  0.000000  0.00000  0.000000  \\\n",
      "1      0.484070  0.032723 -0.34330  ... -0.994210 -0.24292 -0.369380   \n",
      "2      0.535810 -0.828130  0.40373  ... -0.104700  0.57391  0.337290   \n",
      "3     -0.321740  0.027245  0.21411  ... -0.037507  0.58450  0.028449   \n",
      "4      0.000000  0.000000  0.00000  ...  0.000000  0.00000  0.000000   \n",
      "...         ...       ...      ...  ...       ...      ...       ...   \n",
      "12404  0.000000  0.000000  0.00000  ...  0.000000  0.00000  0.000000   \n",
      "12405 -0.089026  0.672620  0.51495  ... -0.187920  0.78183 -0.578390   \n",
      "12406  0.082085  0.373120  0.34636  ... -0.113700 -0.12421 -0.061889   \n",
      "12407  0.000000  0.000000  0.00000  ...  0.000000  0.00000  0.000000   \n",
      "12408 -0.256160  0.313380 -0.18941  ... -0.284450  0.34805 -0.521240   \n",
      "\n",
      "             93        94       95        96        97        98       99  \n",
      "0      0.000000  0.000000  0.00000  0.000000  0.000000  0.000000  0.00000  \n",
      "1      0.063446 -0.950620  0.18201 -0.096244  0.009827  0.397080 -0.34708  \n",
      "2     -0.006745  0.023975  0.56052  0.031803 -0.233170 -0.013865 -0.78455  \n",
      "3     -0.427000  0.243270  0.38425  0.490380  0.344870 -0.380660 -0.44692  \n",
      "4      0.000000  0.000000  0.00000  0.000000  0.000000  0.000000  0.00000  \n",
      "...         ...       ...      ...       ...       ...       ...      ...  \n",
      "12404  0.000000  0.000000  0.00000  0.000000  0.000000  0.000000  0.00000  \n",
      "12405 -0.013934  0.475890 -0.11077  1.107300 -0.735060 -1.294500  0.77804  \n",
      "12406 -0.638030  0.328000  0.30845  0.174320  0.137140 -0.388800  0.91447  \n",
      "12407  0.000000  0.000000  0.00000  0.000000  0.000000  0.000000  0.00000  \n",
      "12408 -0.147660  0.271180  0.38221 -0.958840 -0.560020 -0.317840  0.70035  \n",
      "\n",
      "[12409 rows x 100 columns]\n"
     ]
    }
   ],
   "source": [
    "embedding_matrix = zeros((vocab_length, 100))\n",
    "for word, index in word_tokenizer.word_index.items():\n",
    "    embedding_vector = embeddings_dictionary.get(word)\n",
    "    if embedding_vector is not None:\n",
    "        embedding_matrix[index] = embedding_vector\n",
    "#print(embedding_matrix)\n",
    "df = pd.DataFrame(embedding_matrix)\n",
    "print(df)"
   ]
  },
  {
   "cell_type": "code",
   "execution_count": null,
   "id": "775c8091",
   "metadata": {},
   "outputs": [
    {
     "data": {
      "text/plain": [
       "<seaborn.axisgrid.PairGrid at 0x290f7c550>"
      ]
     },
     "execution_count": 16,
     "metadata": {},
     "output_type": "execute_result"
    }
   ],
   "source": [
    "    # Seaborn visualization library\n",
    "import seaborn as sns\n",
    "# Create the default pairplot\n",
    "sns.pairplot(df)"
   ]
  },
  {
   "cell_type": "code",
   "execution_count": 29,
   "id": "2622ebec",
   "metadata": {},
   "outputs": [
    {
     "name": "stdout",
     "output_type": "stream",
     "text": [
      "No. of feature_words:  12382\n"
     ]
    }
   ],
   "source": [
    "from sklearn.feature_extraction.text import TfidfVectorizer\n",
    "from sklearn.feature_extraction.text import TfidfVectorizer\n",
    "vectoriser = TfidfVectorizer()\n",
    "#x_train = df_train.protext\n",
    "\n",
    "vectoriser.fit(df_train.protext)\n",
    "X = vectoriser.transform(df_train.protext)\n",
    "z = vectoriser.transform(df_test.protext)\n",
    "dev_data = vectoriser.transform(df_dev.protext)\n",
    "print('No. of feature_words: ', len(vectoriser.get_feature_names_out()))\n",
    "lem.clear() "
   ]
  },
  {
   "cell_type": "code",
   "execution_count": 30,
   "id": "880bcc5d",
   "metadata": {},
   "outputs": [
    {
     "name": "stdout",
     "output_type": "stream",
     "text": [
      "test results 78.34699453551912\n",
      "confusion matrix\n",
      "[[164  34  71]\n",
      " [ 40 155  19]\n",
      " [106  47 828]]\n",
      "              precision    recall  f1-score   support\n",
      "\n",
      "           0       0.61      0.53      0.57       310\n",
      "           1       0.72      0.66      0.69       236\n",
      "           2       0.84      0.90      0.87       918\n",
      "\n",
      "    accuracy                           0.78      1464\n",
      "   macro avg       0.73      0.70      0.71      1464\n",
      "weighted avg       0.78      0.78      0.78      1464\n",
      "\n"
     ]
    }
   ],
   "source": [
    "# SUpport Vector Machine (Multi class classification)\n",
    "from sklearn.metrics import classification_report,confusion_matrix\n",
    "\n",
    "#from sklearn.metrics import roc_curve, auc\n",
    "SVCmodel = LinearSVC()\n",
    "SVCmodel.fit(X, y_train)\n",
    "\n",
    "y_pred = SVCmodel.predict(z)\n",
    "\n",
    "print(\"test results\",accuracy_score(y_pred, y_test)*100)\n",
    "print(\"confusion matrix\")\n",
    "cm = confusion_matrix(y_pred, y_test)\n",
    "print(cm)\n",
    "from sklearn.metrics import f1_score\n",
    "from sklearn.metrics import classification_report\n",
    "print(classification_report(y_test , y_pred))"
   ]
  },
  {
   "cell_type": "code",
   "execution_count": 31,
   "id": "af2fa4d7",
   "metadata": {},
   "outputs": [
    {
     "name": "stdout",
     "output_type": "stream",
     "text": [
      "[[ 53   6   3]\n",
      " [  7  35   1]\n",
      " [250 195 914]]\n",
      "              precision    recall  f1-score   support\n",
      "\n",
      "           0       0.85      0.17      0.28       310\n",
      "           1       0.81      0.15      0.25       236\n",
      "           2       0.67      1.00      0.80       918\n",
      "\n",
      "    accuracy                           0.68      1464\n",
      "   macro avg       0.78      0.44      0.45      1464\n",
      "weighted avg       0.73      0.68      0.60      1464\n",
      "\n"
     ]
    }
   ],
   "source": [
    "# Naive bayes\n",
    "from sklearn.naive_bayes import MultinomialNB\n",
    "model = MultinomialNB()\n",
    "model.fit(X,y_train)\n",
    "# Predict the categories of the test data\n",
    "predicted_categories = model.predict(z)\n",
    "cm = confusion_matrix(predicted_categories, y_test)\n",
    "print(cm)\n",
    "#print(\"test results\",accuracy_score(y_test, predicted_categories)*100)\n",
    "print(classification_report(y_test , predicted_categories))"
   ]
  },
  {
   "cell_type": "code",
   "execution_count": 32,
   "id": "ce0540b5",
   "metadata": {},
   "outputs": [
    {
     "name": "stdout",
     "output_type": "stream",
     "text": [
      "ACCURACY REPORT:\n",
      "              precision    recall  f1-score   support\n",
      "\n",
      "    negative       0.78      0.94      0.85       918\n",
      "     neutral       0.63      0.39      0.48       310\n",
      "    positive       0.71      0.52      0.60       236\n",
      "\n",
      "    accuracy                           0.75      1464\n",
      "   macro avg       0.71      0.62      0.65      1464\n",
      "weighted avg       0.74      0.75      0.73      1464\n",
      "\n",
      "dev data:\n",
      "              precision    recall  f1-score   support\n",
      "\n",
      "    negative       0.76      0.94      0.84       826\n",
      "     neutral       0.61      0.35      0.44       279\n",
      "    positive       0.74      0.49      0.59       213\n",
      "\n",
      "    accuracy                           0.74      1318\n",
      "   macro avg       0.70      0.59      0.62      1318\n",
      "weighted avg       0.73      0.74      0.72      1318\n",
      "\n"
     ]
    }
   ],
   "source": [
    "#random forest classifier\n",
    "from sklearn.ensemble import RandomForestClassifier\n",
    "#X_train, X_test, y_train, y_test = train_test_split(x_smote, y_smote, test_size=0.20)\n",
    "rfc = RandomForestClassifier(n_estimators=100)\n",
    "rfc.fit(X, y)\n",
    "rfc_pred = rfc.predict(z)\n",
    "rfc_pred2 = rfc.predict(dev_data)\n",
    "\n",
    "print(\"ACCURACY REPORT:\")\n",
    "print(classification_report(test_target,rfc_pred))\n",
    "print(\"dev data:\")\n",
    "print(classification_report(y_dev,rfc_pred2))\n"
   ]
  },
  {
   "cell_type": "code",
   "execution_count": 33,
   "id": "cb1b5ae8",
   "metadata": {},
   "outputs": [
    {
     "name": "stdout",
     "output_type": "stream",
     "text": [
      "Epoch 1/6\n",
      "75/75 [==============================] - 6s 43ms/step - loss: -5.6064 - acc: 0.1624 - val_loss: -9.2171 - val_acc: 0.1594\n",
      "Epoch 2/6\n",
      "75/75 [==============================] - 2s 29ms/step - loss: -11.5132 - acc: 0.1619 - val_loss: -13.4262 - val_acc: 0.1594\n",
      "Epoch 3/6\n",
      "75/75 [==============================] - 2s 30ms/step - loss: -15.6449 - acc: 0.1619 - val_loss: -17.4751 - val_acc: 0.1594\n",
      "Epoch 4/6\n",
      "75/75 [==============================] - 2s 29ms/step - loss: -19.7319 - acc: 0.1619 - val_loss: -21.4719 - val_acc: 0.1594\n",
      "Epoch 5/6\n",
      "75/75 [==============================] - 2s 29ms/step - loss: -23.7825 - acc: 0.1619 - val_loss: -25.4371 - val_acc: 0.1594\n",
      "Epoch 6/6\n",
      "75/75 [==============================] - 2s 30ms/step - loss: -27.9015 - acc: 0.1619 - val_loss: -29.5552 - val_acc: 0.1594\n",
      "46/46 [==============================] - 1s 10ms/step - loss: -29.9533 - acc: 0.1612\n",
      "Test Score: -29.953277587890625\n",
      "Test Accuracy: 0.16120219230651855\n"
     ]
    }
   ],
   "source": [
    "#lstm\n",
    "# Neural Network architecture\n",
    "\n",
    "lstm_model = Sequential()\n",
    "embedding_layer = Embedding(vocab_length, 100, weights=[embedding_matrix], input_length=maxlen , trainable=False)\n",
    "\n",
    "lstm_model.add(embedding_layer)\n",
    "lstm_model.add(LSTM(128))\n",
    "\n",
    "lstm_model.add(Dense(1, activation='sigmoid'))\n",
    "lstm_model.compile(optimizer='adam', loss='binary_crossentropy', metrics=['acc'])\n",
    "#print(lstm_model.summary())\n",
    "\n",
    "lstm_model_history = lstm_model.fit(X_train, y_train, batch_size=128, epochs=6, verbose=1, validation_split=0.2)\n",
    "score = lstm_model.evaluate(X_test, y_test, verbose=1)\n",
    "print(\"Test Score:\", score[0])\n",
    "print(\"Test Accuracy:\", score[1])"
   ]
  },
  {
   "cell_type": "code",
   "execution_count": 34,
   "id": "50b85ffa",
   "metadata": {},
   "outputs": [],
   "source": [
    "#Simple neural network\n",
    "snn_model = Sequential()\n",
    "embedding_layer = Embedding(vocab_length, 100, weights=[embedding_matrix], input_length=maxlen , trainable=True)\n",
    "\n",
    "snn_model.add(embedding_layer)\n",
    "\n",
    "snn_model.add(Flatten())\n",
    "snn_model.add(Dense(65, activation='relu'))\n",
    "snn_model.add(Dense(40, activation='relu'))\n",
    "snn_model.add(Dense(3, activation='relu'))"
   ]
  },
  {
   "cell_type": "code",
   "execution_count": 35,
   "id": "bfd5c29d",
   "metadata": {},
   "outputs": [
    {
     "name": "stdout",
     "output_type": "stream",
     "text": [
      "Model: \"sequential_4\"\n",
      "_________________________________________________________________\n",
      " Layer (type)                Output Shape              Param #   \n",
      "=================================================================\n",
      " embedding_4 (Embedding)     (None, 100, 100)          1240900   \n",
      "                                                                 \n",
      " flatten_1 (Flatten)         (None, 10000)             0         \n",
      "                                                                 \n",
      " dense_6 (Dense)             (None, 65)                650065    \n",
      "                                                                 \n",
      " dense_7 (Dense)             (None, 40)                2640      \n",
      "                                                                 \n",
      " dense_8 (Dense)             (None, 3)                 123       \n",
      "                                                                 \n",
      "=================================================================\n",
      "Total params: 1,893,728\n",
      "Trainable params: 1,893,728\n",
      "Non-trainable params: 0\n",
      "_________________________________________________________________\n",
      "None\n"
     ]
    }
   ],
   "source": [
    "snn_model.compile(optimizer='nadam', loss='binary_crossentropy', metrics=['acc'])\n",
    "\n",
    "print(snn_model.summary())"
   ]
  },
  {
   "cell_type": "code",
   "execution_count": 36,
   "id": "416d19ef",
   "metadata": {},
   "outputs": [
    {
     "name": "stdout",
     "output_type": "stream",
     "text": [
      "Epoch 1/6\n",
      "75/75 [==============================] - 7s 75ms/step - loss: -5.3395 - acc: 0.6159 - val_loss: -6.2488 - val_acc: 0.6341\n",
      "Epoch 2/6\n",
      "75/75 [==============================] - 3s 44ms/step - loss: -6.3535 - acc: 0.6367 - val_loss: -6.2488 - val_acc: 0.6358\n",
      "Epoch 3/6\n",
      "75/75 [==============================] - 3s 35ms/step - loss: -6.3535 - acc: 0.6380 - val_loss: -6.2488 - val_acc: 0.6383\n",
      "Epoch 4/6\n",
      "75/75 [==============================] - 3s 41ms/step - loss: -6.3535 - acc: 0.6375 - val_loss: -6.2488 - val_acc: 0.6383\n",
      "Epoch 5/6\n",
      "75/75 [==============================] - 3s 38ms/step - loss: -6.3548 - acc: 0.6363 - val_loss: -6.2488 - val_acc: 0.6336\n",
      "Epoch 6/6\n",
      "75/75 [==============================] - 2s 32ms/step - loss: -6.3593 - acc: 0.4910 - val_loss: -6.2488 - val_acc: 0.1678\n",
      "46/46 [==============================] - 1s 8ms/step - loss: -6.3330 - acc: 0.1755\n",
      "Test Score: -6.333017826080322\n",
      "Test Accuracy: 0.17554645240306854\n"
     ]
    }
   ],
   "source": [
    "snn_model_history = snn_model.fit(X_train, y_train, batch_size=128, epochs=6, verbose=1, validation_split=0.2)\n",
    "score = snn_model.evaluate(X_test, y_test, verbose=1)\n",
    "\n",
    "print(\"Test Score:\", score[0])\n",
    "print(\"Test Accuracy:\", score[1])"
   ]
  },
  {
   "cell_type": "code",
   "execution_count": 37,
   "id": "8db02219",
   "metadata": {},
   "outputs": [
    {
     "name": "stdout",
     "output_type": "stream",
     "text": [
      "Model: \"sequential_5\"\n",
      "_________________________________________________________________\n",
      " Layer (type)                Output Shape              Param #   \n",
      "=================================================================\n",
      " embedding_5 (Embedding)     (None, 100, 100)          1240900   \n",
      "                                                                 \n",
      " conv1d_1 (Conv1D)           (None, 96, 128)           64128     \n",
      "                                                                 \n",
      " global_max_pooling1d_1 (Glo  (None, 128)              0         \n",
      " balMaxPooling1D)                                                \n",
      "                                                                 \n",
      " dense_9 (Dense)             (None, 1)                 129       \n",
      "                                                                 \n",
      "=================================================================\n",
      "Total params: 1,305,157\n",
      "Trainable params: 64,257\n",
      "Non-trainable params: 1,240,900\n",
      "_________________________________________________________________\n",
      "None\n"
     ]
    }
   ],
   "source": [
    "#CNN\n",
    "cnn_model = Sequential()\n",
    "\n",
    "embedding_layer = Embedding(vocab_length, 100, weights=[embedding_matrix], input_length=maxlen , trainable=False)\n",
    "cnn_model.add(embedding_layer)\n",
    "\n",
    "cnn_model.add(Conv1D(128, 5, activation='relu'))\n",
    "cnn_model.add(GlobalMaxPooling1D())\n",
    "cnn_model.add(Dense(1, activation='relu'))\n",
    "\n",
    "cnn_model.compile(optimizer='nadam', loss='binary_crossentropy', metrics=['acc'])\n",
    "print(cnn_model.summary())"
   ]
  },
  {
   "cell_type": "code",
   "execution_count": 38,
   "id": "ea7c5c48",
   "metadata": {},
   "outputs": [
    {
     "name": "stdout",
     "output_type": "stream",
     "text": [
      "Epoch 1/6\n",
      "75/75 [==============================] - 3s 32ms/step - loss: -6.0349 - acc: 0.1699 - val_loss: -6.3356 - val_acc: 0.1657\n",
      "Epoch 2/6\n",
      "75/75 [==============================] - 1s 18ms/step - loss: -6.4996 - acc: 0.1747 - val_loss: -6.3950 - val_acc: 0.1728\n",
      "Epoch 3/6\n",
      "75/75 [==============================] - 1s 17ms/step - loss: -6.5450 - acc: 0.1746 - val_loss: -6.3947 - val_acc: 0.1669\n",
      "Epoch 4/6\n",
      "75/75 [==============================] - 1s 18ms/step - loss: -6.5585 - acc: 0.1708 - val_loss: -6.4113 - val_acc: 0.1661\n",
      "Epoch 5/6\n",
      "75/75 [==============================] - 1s 18ms/step - loss: -6.5755 - acc: 0.1717 - val_loss: -6.4308 - val_acc: 0.1636\n",
      "Epoch 6/6\n",
      "75/75 [==============================] - 1s 18ms/step - loss: -6.6084 - acc: 0.1769 - val_loss: -6.4119 - val_acc: 0.1720\n"
     ]
    }
   ],
   "source": [
    "cnn_model_history = cnn_model.fit(X_train, y_train, batch_size=128, epochs=6, verbose=1, validation_split=0.2)"
   ]
  },
  {
   "cell_type": "code",
   "execution_count": 39,
   "id": "c6943ee5",
   "metadata": {},
   "outputs": [
    {
     "name": "stdout",
     "output_type": "stream",
     "text": [
      "46/46 [==============================] - 0s 8ms/step - loss: -6.5874 - acc: 0.1796\n"
     ]
    }
   ],
   "source": [
    "score = cnn_model.evaluate(X_test, y_test, verbose=1)"
   ]
  },
  {
   "cell_type": "code",
   "execution_count": 40,
   "id": "4d2b9fc0",
   "metadata": {},
   "outputs": [
    {
     "name": "stdout",
     "output_type": "stream",
     "text": [
      "Test Score: -6.587430477142334\n",
      "Test Accuracy: 0.17964480817317963\n"
     ]
    }
   ],
   "source": [
    "print(\"Test Score:\", score[0])\n",
    "print(\"Test Accuracy:\", score[1])"
   ]
  },
  {
   "cell_type": "code",
   "execution_count": null,
   "id": "dea734fd",
   "metadata": {},
   "outputs": [],
   "source": []
  }
 ],
 "metadata": {
  "kernelspec": {
   "display_name": "Python 3 (ipykernel)",
   "language": "python",
   "name": "python3"
  },
  "language_info": {
   "codemirror_mode": {
    "name": "ipython",
    "version": 3
   },
   "file_extension": ".py",
   "mimetype": "text/x-python",
   "name": "python",
   "nbconvert_exporter": "python",
   "pygments_lexer": "ipython3",
   "version": "3.10.9"
  }
 },
 "nbformat": 4,
 "nbformat_minor": 5
}
